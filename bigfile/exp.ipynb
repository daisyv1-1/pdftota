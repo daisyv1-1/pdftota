{
 "cells": [
  {
   "cell_type": "code",
   "execution_count": 1,
   "id": "750f9d34-ffda-491c-b8de-1790f77ddff2",
   "metadata": {},
   "outputs": [
    {
     "name": "stdout",
     "output_type": "stream",
     "text": [
      "f:\\pdftota\\venv\\Scripts\\python.exe\n"
     ]
    }
   ],
   "source": [
    "import sys\n",
    "print(sys.executable)"
   ]
  },
  {
   "cell_type": "code",
   "execution_count": 2,
   "id": "406fbe39-259a-4fcf-aa79-759494362a32",
   "metadata": {},
   "outputs": [],
   "source": [
    "import langchain"
   ]
  },
  {
   "cell_type": "code",
   "execution_count": 3,
   "id": "3f231ca1-88fc-4e68-8036-dcf086b58dc5",
   "metadata": {},
   "outputs": [],
   "source": [
    "from langchain.document_loaders import TextLoader\n",
    "from pypdf import PdfReader\n",
    "from langchain import HuggingFaceHub\n",
    "from langchain.text_splitter import RecursiveCharacterTextSplitter\n",
    "from langchain.embeddings import HuggingFaceInstructEmbeddings\n",
    "from langchain.vectorstores import FAISS\n",
    "from langchain.chains import RetrievalQA, ConversationalRetrievalChain\n",
    "from langchain.memory import ConversationBufferWindowMemory"
   ]
  },
  {
   "cell_type": "code",
   "execution_count": 4,
   "id": "b7fe6c7a-c424-4885-818d-0baa83c437b0",
   "metadata": {},
   "outputs": [
    {
     "data": {
      "text/plain": [
       "'Spy × Family\\nGenre Action[1]\\nSpy comedy[2]\\nAnime television series\\nDirected byKazuhiro Furuhashi\\nTakahiro Harada (S2)\\nWritten by Kazuhiro Furuhashi (S1)\\nIchirō Ōkouchi (S2)\\nMusic by (K)now Name\\nStudio Wit Studio\\nCloverWorks\\nLicensed byCrunchyroll\\nSA/SEA:\\n Muse\\nCommunication\\nOriginal\\nnetworkTV Tokyo\\n'"
      ]
     },
     "execution_count": 4,
     "metadata": {},
     "output_type": "execute_result"
    }
   ],
   "source": [
    "doc1=''\n",
    "reader = PdfReader('F:\\pdftota\\datasources\\spyfam.pdf')\n",
    "for page in reader.pages:\n",
    "    doc1 += page.extract_text()\n",
    "\n",
    "doc1[:300]"
   ]
  },
  {
   "cell_type": "code",
   "execution_count": 5,
   "id": "1edd2830-8b6e-4749-bcc9-bcf7649f7a1c",
   "metadata": {},
   "outputs": [],
   "source": [
    "chunk_size = 200\n",
    "chunk_overlap =  10\n",
    "\n",
    "splitter = RecursiveCharacterTextSplitter(\n",
    "    chunk_size = chunk_size,\n",
    "    chunk_overlap =  chunk_overlap\n",
    ")\n",
    "\n",
    "split1= splitter.split_text(doc1)\n",
    "split1= splitter.create_documents(doc1)"
   ]
  },
  {
   "cell_type": "markdown",
   "id": "f097114b-04d4-4b0a-a51c-c69ca6e100ed",
   "metadata": {},
   "source": [
    "## document 2"
   ]
  },
  {
   "cell_type": "code",
   "execution_count": 6,
   "id": "ad0c6765-e0a9-420d-b51b-6274b6c1a740",
   "metadata": {},
   "outputs": [
    {
     "data": {
      "text/plain": [
       "\"page_content='Bird\\\\n\\\\n\\\\nBirds are a group of warm-blooded vertebrates\\\\n\\\\n\\\\n\\\\n\\\\n\\\\nBirds\\\\n\\\\n\\\\nconstitu\""
      ]
     },
     "execution_count": 6,
     "metadata": {},
     "output_type": "execute_result"
    }
   ],
   "source": [
    "loader = TextLoader(\"F:/pdftota/datasources/Bird.txt\", encoding = 'utf-8')\n",
    "loader = loader.load()\n",
    "doc2 = loader[0]\n",
    "doc2 = str(doc2)\n",
    "doc2[:100]"
   ]
  },
  {
   "cell_type": "code",
   "execution_count": 7,
   "id": "444755b5-579b-45a1-88b1-17eb09268931",
   "metadata": {},
   "outputs": [],
   "source": [
    "split2 = splitter.split_text(doc2)\n",
    "split2 = splitter.create_documents(doc2)"
   ]
  },
  {
   "cell_type": "markdown",
   "id": "59acf11b-4ac9-4b4b-ba86-b10f98cc8b1b",
   "metadata": {},
   "source": [
    "## embedding "
   ]
  },
  {
   "cell_type": "code",
   "execution_count": 8,
   "id": "0b7e9f7f-f9d2-4bf7-813c-6f80b4849f49",
   "metadata": {},
   "outputs": [
    {
     "name": "stdout",
     "output_type": "stream",
     "text": [
      "Processor: Intel64 Family 6 Model 78 Stepping 3, GenuineIntel\n"
     ]
    }
   ],
   "source": [
    "import platform\n",
    "\n",
    "processor = platform.processor()\n",
    "print(f\"Processor: {processor}\")"
   ]
  },
  {
   "cell_type": "code",
   "execution_count": null,
   "id": "04e7053d-d8f5-42fc-a21e-7339ed86a22c",
   "metadata": {},
   "outputs": [
    {
     "name": "stdout",
     "output_type": "stream",
     "text": [
      "load INSTRUCTOR_Transformer\n",
      "max_seq_length  512\n"
     ]
    }
   ],
   "source": [
    "instructor_embeddings = HuggingFaceInstructEmbeddings(model_name=\"hkunlp/instructor-base\", model_kwargs={})\n",
    "db1 = FAISS.from_documents(split1, instructor_embeddings)\n",
    "db1.save_local(\"vector store/spyfam\")\n",
    "db2 = FAISS.from_documents(split2, instructor_embeddings)\n",
    "db2.save_local(\"vector store/Bird\")"
   ]
  }
 ],
 "metadata": {
  "kernelspec": {
   "display_name": "Python 3 (ipykernel)",
   "language": "python",
   "name": "python3"
  },
  "language_info": {
   "codemirror_mode": {
    "name": "ipython",
    "version": 3
   },
   "file_extension": ".py",
   "mimetype": "text/x-python",
   "name": "python",
   "nbconvert_exporter": "python",
   "pygments_lexer": "ipython3",
   "version": "3.11.4"
  }
 },
 "nbformat": 4,
 "nbformat_minor": 5
}
